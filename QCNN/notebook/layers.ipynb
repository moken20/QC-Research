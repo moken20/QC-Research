{
 "cells": [
  {
   "cell_type": "code",
   "execution_count": 28,
   "metadata": {},
   "outputs": [],
   "source": [
    "import numpy as np\n",
    "import scipy.linalg as la\n",
    "from qiskit import quantum_info as qi\n",
    "from qiskit import QuantumCircuit"
   ]
  },
  {
   "cell_type": "code",
   "execution_count": 12,
   "metadata": {},
   "outputs": [],
   "source": [
    "def b_mat(i, j, n):\n",
    "    basis_matrix = np.zeros((n, n), dtype=np.float32)\n",
    "    basis_matrix[i, j] = 1.0\n",
    "\n",
    "    return basis_matrix\n",
    "\n",
    "def generate_gell_mann(order):\n",
    "    lst_of_gm_matrices = []\n",
    "    for k in range(order):\n",
    "        j = 0\n",
    "        while j < k:\n",
    "            sym_mat = b_mat(j, k, order) + b_mat(k, j, order)\n",
    "            anti_sym_mat = complex(0.0, -1.0) * (b_mat(j, k, order) - b_mat(k, j, order))\n",
    "\n",
    "            lst_of_gm_matrices.append(sym_mat), lst_of_gm_matrices.append(anti_sym_mat)\n",
    "            j += 1\n",
    "\n",
    "        if k < (order - 1):\n",
    "            n = k + 1\n",
    "            coeff = np.sqrt(2 / (n*(n+1)))\n",
    "\n",
    "            sum_diag = b_mat(0, 0, order)\n",
    "            for i in range(1, k+1):\n",
    "                sum_diag += b_mat(i, i, order)\n",
    "            \n",
    "            diag_mat = coeff * (sum_diag - n*(b_mat(k+1, k+1, order)))\n",
    "            lst_of_gm_matrices.append(diag_mat)\n",
    "\n",
    "    return lst_of_gm_matrices"
   ]
  },
  {
   "cell_type": "code",
   "execution_count": 24,
   "metadata": {},
   "outputs": [
    {
     "name": "stdout",
     "output_type": "stream",
     "text": [
      "[[1. 0. 0. 0.]\n",
      " [0. 1. 0. 0.]\n",
      " [0. 0. 0. 0.]\n",
      " [0. 0. 0. 0.]]\n"
     ]
    }
   ],
   "source": [
    "i_hat = np.array([[1.0, 0.0],\n",
    "                  [0.0, 0.0]])\n",
    "j_hat = np.array([[0.0, 0.0],\n",
    "                 [0.0, 1.0]])\n",
    "X = np.array([[0.0, 1.0],\n",
    "              [1.0, 0.0]])\n",
    "identity = i_hat + j_hat\n",
    "\n",
    "a = np.kron(i_hat, identity) \n",
    "b = np.kron(j_hat, X)\n",
    "\n",
    "print(a)"
   ]
  },
  {
   "cell_type": "code",
   "execution_count": 25,
   "metadata": {},
   "outputs": [
    {
     "name": "stdout",
     "output_type": "stream",
     "text": [
      "[8, 4, 2, 1]\n"
     ]
    }
   ],
   "source": [
    "num_control_qubits = 4\n",
    "\n",
    "divisors = range(num_control_qubits-1, -1, -1)\n",
    "divisors = [2**i for i in divisors]\n",
    "print(divisors)\n",
    "\n",
    "params = [1.0, 1,2, 1.3, 1.4]\n",
    "circ = QuantumCircuit(4, 4)\n",
    "for iterarion_num, theta in zip(range(1, 2**num_control_qubits + 1), params):\n",
    "    circ.rz(theta, 3)\n"
   ]
  },
  {
   "cell_type": "code",
   "execution_count": 1,
   "metadata": {},
   "outputs": [],
   "source": [
    "import numpy as np\n",
    "import scipy.linalg as la\n",
    "from qiskit import quantum_info as qi\n",
    "from qiskit import QuantumCircuit\n",
    "\n",
    "\n",
    "# Helper Functions ################################################\n",
    "def b_mat(i, j, n):\n",
    "    basis_matrix = np.zeros((n, n), dtype=np.float32)\n",
    "    basis_matrix[i, j] = 1.0\n",
    "\n",
    "    return basis_matrix\n",
    "\n",
    "\n",
    "def generate_gell_mann(order):\n",
    "\n",
    "    lst_of_gm_matricies = []\n",
    "    for k in range(order):\n",
    "        j = 0\n",
    "        while j < k:\n",
    "            sym_mat = b_mat(j, k, order) + b_mat(k, j, order)\n",
    "            anti_sym_mat = complex(0.0, -1.0) * (b_mat(j, k, order) - b_mat(k, j, order))\n",
    "\n",
    "            lst_of_gm_matricies.append(sym_mat), lst_of_gm_matricies.append(anti_sym_mat)\n",
    "            j += 1\n",
    "\n",
    "        if k < (order - 1):\n",
    "            n = k + 1\n",
    "            coeff = np.sqrt(2 / (n*(n+1)))\n",
    "\n",
    "            sum_diag = b_mat(0, 0, order)\n",
    "            for i in range(1, k+1):\n",
    "                sum_diag += b_mat(i, i, order)\n",
    "\n",
    "            diag_mat = coeff * (sum_diag - n*(b_mat(k+1, k+1, order)))\n",
    "            lst_of_gm_matricies.append(diag_mat)\n",
    "\n",
    "    return lst_of_gm_matricies\n",
    "\n",
    "\n",
    "def get_conv_op(mats, parms):\n",
    "    '''\n",
    "    eの肩にgell mann行列とパラメータの1次結合が乗った行列をつくる\n",
    "    '''\n",
    "   \n",
    "    final = np.zeros(mats[0].shape, dtype=np.complex128)\n",
    "    for mat, parm in zip(mats, parms):  # sum over the gm matricies scaled by the parameters\n",
    "        final += parm * mat\n",
    "\n",
    "    return la.expm(complex(0, -1) * final)  # get the matrix exponential of the final matrix\n",
    "\n",
    "\n",
    "def controlled_pool(mat):\n",
    "\n",
    "    i_hat = np.array([[1.0, 0.0],\n",
    "                      [0.0, 0.0]])\n",
    "    j_hat = np.array([[0.0, 0.0],\n",
    "                      [0.0, 1.0]])\n",
    "    identity = i_hat + j_hat\n",
    "\n",
    "    return np.kron(i_hat, identity) + np.kron(j_hat, mat)\n",
    "\n",
    "def generate_uniformly_controlled_rotation(circ, params, control_qubit_indicies, target_qubit_index, axis='z', label=\"\"):\n",
    "\n",
    "    num_control_qubits = len(control_qubit_indicies)\n",
    "\n",
    "    divisors = range(num_control_qubits - 1, -1, -1)\n",
    "    divisors = [2**i for i in divisors]\n",
    "\n",
    "    for iteration_num, theta in zip(range(1, 2**num_control_qubits+1), params):\n",
    "        if axis == 'z':\n",
    "            circ.rz(theta, target_qubit_index)\n",
    "        elif axis == 'y':\n",
    "            circ.ry(theta, target_qubit_index)\n",
    "        else:\n",
    "            circ.rx(theta, target_qubit_index)\n",
    "\n",
    "        for divisor in divisors:\n",
    "            if iteration_num % divisor == 0:\n",
    "                control_element = int((num_control_qubits - 1) - np.log2(divisor))\n",
    "                circ.cx(control_qubit_indicies[control_element], target_qubit_index)\n",
    "                break\n",
    "\n",
    "    print(\"--generate_uniformly_controlled_rotation------------------------\")\n",
    "    circ.draw(output='mpl')\n",
    "\n",
    "    return\n",
    "\n",
    "\n",
    "# Layer Implement ############################################################\n",
    "    "
   ]
  },
  {
   "cell_type": "code",
   "execution_count": 14,
   "metadata": {},
   "outputs": [
    {
     "data": {
      "image/png": "[encoded data removed]",
      "text/plain": [
       "<Figure size 203.885x451.5 with 1 Axes>"
      ]
     },
     "execution_count": 14,
     "metadata": {},
     "output_type": "execute_result"
    }
   ],
   "source": [
    "param = [np.random.rand() for _ in range(15)]\n",
    "\n",
    "conv_operators = generate_gell_mann(4)  #2 qubit gell mann matrices\n",
    "conv = get_conv_op(conv_operators, param)\n",
    "u_conv = qi.Operator(conv)\n",
    "\n",
    "circ = QuantumCircuit(5)\n",
    "circ.unitary(u_conv, [2,3], label='ic4')\n",
    "circ.draw(output='mpl')"
   ]
  },
  {
   "cell_type": "code",
   "execution_count": null,
   "metadata": {},
   "outputs": [],
   "source": []
  }
 ],
 "metadata": {
  "kernelspec": {
   "display_name": "env",
   "language": "python",
   "name": "python3"
  },
  "language_info": {
   "codemirror_mode": {
    "name": "ipython",
    "version": 3
   },
   "file_extension": ".py",
   "mimetype": "text/x-python",
   "name": "python",
   "nbconvert_exporter": "python",
   "pygments_lexer": "ipython3",
   "version": "3.9.4"
  },
  "orig_nbformat": 4
 },
 "nbformat": 4,
 "nbformat_minor": 2
}
