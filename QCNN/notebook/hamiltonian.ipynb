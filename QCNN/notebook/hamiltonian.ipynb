{
 "cells": [
  {
   "cell_type": "code",
   "execution_count": 2,
   "metadata": {},
   "outputs": [],
   "source": [
    "import os\n",
    "import time\n",
    "import tqdm\n",
    "import itertools\n",
    "import numpy as np\n",
    "import scipy.sparse as sparse\n",
    "import scipy.sparse.linalg"
   ]
  },
  {
   "cell_type": "code",
   "execution_count": 2,
   "metadata": {},
   "outputs": [],
   "source": [
    "X = np.array([[0, 1],[1, 0]], dtype=int)\n",
    "Z = np.array([[1, 0], [0, -1]], dtype=int)\n",
    "I = np.array([[1, 0], [0, 1]])\n",
    "II = sparse.dia_matrix((np.ones(2), np.array([0])), dtype=int, shape=(2, 2))"
   ]
  },
  {
   "cell_type": "code",
   "execution_count": 3,
   "metadata": {},
   "outputs": [],
   "source": [
    "def read_eigenvectors(file):\n",
    "    with open(file, 'r+') as f:\n",
    "        text_data = f.readlines()\n",
    "\n",
    "        h_vals = []\n",
    "        for i in range(len(text_data)):\n",
    "            h1h2, eigenvector = text_data[i].split(\"_\")\n",
    "\n",
    "            h_vals.append(tuple(map(float, h1h2[1: -1].split(\", \"))))\n",
    "            text_data[i] = eigenvector\n",
    "        \n",
    "        return h_vals, np.loadtxt(text_data, dtype=complex)"
   ]
  },
  {
   "cell_type": "code",
   "execution_count": 4,
   "metadata": {},
   "outputs": [],
   "source": [
    "def find_kron(array, index, q_bits):\n",
    "    order = np.ones(q_bits)\n",
    "    order[index-1] = 0\n",
    "    assert index <= q_bits\n",
    "    t = sparse.dia_matrix((pow(2, q_bits), pow(2, q_bits)), dtype=int)\n",
    "\n",
    "    for i in range(1, len(order)):\n",
    "        current = array if order[i] == 0 else II\n",
    "\n",
    "        if i == 1:\n",
    "            t = array if order[i-1] == 0 else II\n",
    "\n",
    "        t = sparse.kron(t, current)\n",
    "\n",
    "    return t.copy()"
   ]
  },
  {
   "cell_type": "code",
   "execution_count": 5,
   "metadata": {},
   "outputs": [],
   "source": [
    "# third_term = np.zeros(shape=(pow(2, 4), pow(2, 4)), dtype=float)\n",
    "\n",
    "# for i in range(4-1):\n",
    "#     elem = i + 1\n",
    "#     print(f\"third term {elem}/3\")\n",
    "\n",
    "#     b1 = find_kron(X, elem, 4)\n",
    "#     b2 = find_kron(X, elem+1, 4)\n",
    "#     b1_rows, _ = sparse.coo_matrix"
   ]
  },
  {
   "cell_type": "code",
   "execution_count": 27,
   "metadata": {},
   "outputs": [
    {
     "name": "stdout",
     "output_type": "stream",
     "text": [
      "<bound method spmatrix.getrow of <4x4 sparse matrix of type '<class 'numpy.int32'>'\n",
      "\twith 8 stored elements (blocksize = 2x2) in Block Sparse Row format>>\n",
      "[[0 1 0 0]\n",
      " [1 0 0 0]\n",
      " [0 0 0 1]\n",
      " [0 0 1 0]]\n"
     ]
    }
   ],
   "source": [
    "n=2\n",
    "third_term = np.zeros(shape=(pow(2, n), pow(2, n)), dtype=float)\n",
    "\n",
    "elem = 1\n",
    "b1 = find_kron(X, elem, n)\n",
    "b2 = find_kron(X, elem+1, n)\n",
    "# b1_rows, _ = sparse.coo_matrix(b1, dtype=sparse.coo_matrix).nonzero()      #行列b1の1が存在する行のindexをb1_rowsに格納\n",
    "# _, b2_cols = sparse.coo_matrix(b2, dtype=sparse.coo_matrix).nonzero()      #行列b2の1が存在する列のindexをb2_rowsに格納\n",
    "\n",
    "b1 = np.array([[0, 0, 1, 0],\n",
    "               [0, 0, 0, 1],\n",
    "               [1, 0, 0, 0],\n",
    "               [0, 1, 0, 0]])\n",
    "b2 = np.array([[0 1 0 0]\n",
    "               [1 0 0 0]\n",
    "               [0 0 0 1]\n",
    "               [0 0 1 0]])\n",
    "\n",
    "b1_rows, b1_cols = sparse.coo_matrix(b1, dtype=sparse.coo_matrix).nonzero()\n",
    "b2_rows, wrongly_ordered_b2_cols = b1_cols, []\n",
    "\n",
    "def extract_elem(elem):\n",
    "    wrongly_ordered_b2_cols.append(elem)\n",
    "\n",
    "list(map(b2.getrow, filter(extract_elem, b2_rows)))\n",
    "\n",
    "# b2_cols = []\n",
    "# swaps = int(pow(2, n-1-elem))\n",
    "# groups = [wrongly_ordered_b2_cols[i:i + swaps] for i in range(0, len(wrongly_ordered_b2_cols), swaps)]\n",
    "\n",
    "# for j in range(int(len(groups) / 2)):\n",
    "#     switch = groups[2 * j: (2 * j) + 2]\n",
    "#     b2_cols.append([*switch[1], *switch[0]])\n",
    "\n",
    "# b2_cols = list(itertools.chain(*b2_cols))\n",
    "\n",
    "# combined = sparse.coo_matrix((np.ones(pow(2, n), dtype=int), (b1_rows, b2_cols)),\n",
    "#                              shape=(pow(2, n), pow(2, n)))\n",
    "\n",
    "\n",
    "# third_term -= combined.toarray()\n",
    "# print(third_term)\n"
   ]
  },
  {
   "cell_type": "code",
   "execution_count": 29,
   "metadata": {},
   "outputs": [
    {
     "name": "stdout",
     "output_type": "stream",
     "text": [
      "[[0 1]\n",
      " [2 0]]\n"
     ]
    },
    {
     "data": {
      "text/plain": [
       "array([[1.]])"
      ]
     },
     "execution_count": 29,
     "metadata": {},
     "output_type": "execute_result"
    }
   ],
   "source": [
    "II = sparse.dia_matrix((np.ones(2), np.array([0])), dtype=int, shape=(2, 2))\n",
    "Z = sparse.dia_matrix((np.array([1, -1]), np.array([0])), dtype=int, shape=(2, 2))\n",
    "X = sparse.dia_matrix((np.array([2]), np.array([-1])), dtype=int, shape=(2, 2))\n",
    "X.setdiag(np.ones(1), 1)\n",
    "\n",
    "\n",
    "ma = X\n",
    "print(ma.toarray())\n",
    "np.array([np.ones(1)])"
   ]
  },
  {
   "cell_type": "code",
   "execution_count": null,
   "metadata": {},
   "outputs": [],
   "source": []
  }
 ],
 "metadata": {
  "kernelspec": {
   "display_name": "env",
   "language": "python",
   "name": "python3"
  },
  "language_info": {
   "codemirror_mode": {
    "name": "ipython",
    "version": 3
   },
   "file_extension": ".py",
   "mimetype": "text/x-python",
   "name": "python",
   "nbconvert_exporter": "python",
   "pygments_lexer": "ipython3",
   "version": "3.9.4"
  },
  "orig_nbformat": 4,
  "vscode": {
   "interpreter": {
    "hash": "27d25ee8c19e96e6a2baf4efd1f121f6252c856e53071d999bae66514221de3f"
   }
  }
 },
 "nbformat": 4,
 "nbformat_minor": 2
}
