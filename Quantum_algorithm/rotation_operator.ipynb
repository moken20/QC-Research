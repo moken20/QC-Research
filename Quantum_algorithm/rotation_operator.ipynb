{
 "cells": [
  {
   "cell_type": "markdown",
   "metadata": {},
   "source": [
    "## QCQI Excercise 4.6\n",
    "Why are the R_n(λ) operators referred to as rotation operators  \n",
    "\n",
    "The first step to prove this is that R_x(λ), R_y(λ), R_z(λ) rotate a state around the x, y, and z axis of the bloch vector."
   ]
  },
  {
   "cell_type": "code",
   "execution_count": 1,
   "metadata": {},
   "outputs": [],
   "source": [
    "import sympy as sy\n",
    "import warnings\n",
    "sy.init_printing()\n",
    "warnings.simplefilter('ignore')"
   ]
  },
  {
   "cell_type": "code",
   "execution_count": 2,
   "metadata": {},
   "outputs": [],
   "source": [
    "#シンボル定義\n",
    "theta = sy.Symbol(\"θ\", real=True)\n",
    "phi = sy.Symbol(\"φ\", real=True)\n",
    "lam = sy.Symbol(\"λ\", real=True)\n",
    "\n",
    "#基本ゲート定義\n",
    "X = sy.Matrix([\n",
    "    [0, 1],\n",
    "    [1, 0],\n",
    "])\n",
    "\n",
    "Y = sy.Matrix([\n",
    "    [0, -1j],\n",
    "    [1j, 0]\n",
    "])\n",
    "\n",
    "Z = sy.Matrix([\n",
    "    [1, 0],\n",
    "    [0, -1]\n",
    "])\n",
    "\n",
    "I = sy.Matrix([\n",
    "    [1, 0],\n",
    "    [0, 1]\n",
    "])\n",
    "\n",
    "#rotation定義\n",
    "def Rx(t):\n",
    "    return sy.cos(t/2)*I - 1j*sy.sin(t/2)*X\n",
    "def Ry(t):\n",
    "    return sy.cos(t/2)*I - 1j*sy.sin(t/2)*Y\n",
    "def Rz(t):\n",
    "    return sy.cos(t/2)*I - 1j*sy.sin(t/2)*Z\n",
    "\n",
    "#基底定義\n",
    "Zero = sy.Matrix([[1], [0]])\n",
    "One = sy.Matrix([[0], [1]])\n",
    "\n",
    "#任意の状態ベクトル定義\n",
    "ini_state = sy.cos(theta/2)*Zero + sy.exp(1j*phi)*sy.sin(theta/2)*One"
   ]
  },
  {
   "cell_type": "code",
   "execution_count": 3,
   "metadata": {},
   "outputs": [],
   "source": [
    "#Blochベクトル\n",
    "def x(state):\n",
    "    unitary = X @ state * state.H\n",
    "    return sy.simplify(unitary.trace())\n",
    "\n",
    "def y(state):\n",
    "    unitary = Y @ state * state.H\n",
    "    return sy.simplify(unitary.trace())\n",
    "\n",
    "def z(state):\n",
    "    unitary = Z @ state * state.H\n",
    "    return sy.simplify(unitary.trace())"
   ]
  },
  {
   "cell_type": "code",
   "execution_count": 4,
   "metadata": {},
   "outputs": [
    {
     "data": {
      "text/latex": [
       "$\\displaystyle 1.0 \\sin{\\left(θ \\right)} \\cos{\\left(1.0 φ \\right)}$"
      ],
      "text/plain": [
       "1.0⋅sin(θ)⋅cos(1.0⋅φ)"
      ]
     },
     "metadata": {},
     "output_type": "display_data"
    },
    {
     "data": {
      "text/latex": [
       "$\\displaystyle - 0.5 i e^{1.0 i φ} \\sin{\\left(θ \\right)} \\cos{\\left(λ \\right)} - 1.0 \\sin{\\left(λ \\right)} \\cos{\\left(θ \\right)} + 0.5 i e^{- 1.0 i φ} \\sin{\\left(θ \\right)} \\cos{\\left(λ \\right)}$"
      ],
      "text/plain": [
       "         1.0⋅ⅈ⋅φ                                        -1.0⋅ⅈ⋅φ              \n",
       "- 0.5⋅ⅈ⋅ℯ       ⋅sin(θ)⋅cos(λ) - sin(λ)⋅cos(θ) + 0.5⋅ⅈ⋅ℯ        ⋅sin(θ)⋅cos(λ)"
      ]
     },
     "metadata": {},
     "output_type": "display_data"
    },
    {
     "data": {
      "text/latex": [
       "$\\displaystyle - 0.5 i e^{1.0 i φ} \\sin{\\left(θ \\right)} \\sin{\\left(λ \\right)} + 1.0 \\cos{\\left(θ \\right)} \\cos{\\left(λ \\right)} + 0.5 i e^{- 1.0 i φ} \\sin{\\left(θ \\right)} \\sin{\\left(λ \\right)}$"
      ],
      "text/plain": [
       "         1.0⋅ⅈ⋅φ                                            -1.0⋅ⅈ⋅φ          \n",
       "- 0.5⋅ⅈ⋅ℯ       ⋅sin(θ)⋅sin(λ) + 1.0⋅cos(θ)⋅cos(λ) + 0.5⋅ⅈ⋅ℯ        ⋅sin(θ)⋅si\n",
       "\n",
       "    \n",
       "n(λ)"
      ]
     },
     "metadata": {},
     "output_type": "display_data"
    }
   ],
   "source": [
    "#実行\n",
    "state = Rx(lam)@ini_state\n",
    "display(x(state))\n",
    "display(y(state))\n",
    "display(z(state))"
   ]
  },
  {
   "cell_type": "markdown",
   "metadata": {},
   "source": [
    "Then, we need to show that R_n(λ) indeed rotates a bloch vector by λ around the (n_x, n_y, n_z) axis. To do this, we can construct such a rotation with just rotations around the 3 axes and show that this indeed equals R_n(λ). Now, to perform a rotation R_n(λ)　we follow the following procedure:  \n",
    "\n",
    "1. R_z(π/2-φ)\n",
    "2. R_x(θ)\n",
    "3. R_z(λ)\n",
    "4. R_x(-θ)\n",
    "5. R_z(φ-π/2)\n",
    "  \n",
    "Let's show that this procedure equals to R_n(λ)"
   ]
  },
  {
   "cell_type": "code",
   "execution_count": 5,
   "metadata": {},
   "outputs": [
    {
     "data": {
      "text/latex": [
       "$\\displaystyle \\left[\\begin{matrix}\\sqrt{2} \\cdot \\left(1.0 \\left(-1 + i\\right) \\sin^{2}{\\left(\\frac{θ}{2} \\right)} \\sin{\\left(\\frac{λ}{2} \\right)} + 0.5 \\cdot \\left(1 - i\\right) \\sin{\\left(\\frac{λ}{2} \\right)} + 0.5 \\cdot \\left(1 + i\\right) \\cos{\\left(\\frac{λ}{2} \\right)}\\right) & 1.0 \\sqrt{2} \\cdot \\left(1 - i\\right) e^{- i φ} \\sin{\\left(\\frac{θ}{2} \\right)} \\sin{\\left(\\frac{λ}{2} \\right)} \\cos{\\left(\\frac{θ}{2} \\right)}\\\\- 1.0 \\sqrt{2} \\cdot \\left(1 + i\\right) e^{i φ} \\sin{\\left(\\frac{θ}{2} \\right)} \\sin{\\left(\\frac{λ}{2} \\right)} \\cos{\\left(\\frac{θ}{2} \\right)} & \\sqrt{2} \\left(- 1.0 \\cdot \\left(1 + i\\right) \\sin^{2}{\\left(\\frac{θ}{2} \\right)} \\sin{\\left(\\frac{λ}{2} \\right)} + 0.5 \\cdot \\left(1 + i\\right) \\sin{\\left(\\frac{λ}{2} \\right)} + 0.5 \\cdot \\left(1 - i\\right) \\cos{\\left(\\frac{λ}{2} \\right)}\\right)\\end{matrix}\\right]$"
      ],
      "text/plain": [
       "⎡   ⎛                2⎛θ⎞    ⎛λ⎞                  ⎛λ⎞                  ⎛λ⎞⎞   \n",
       "⎢√2⋅⎜1.0⋅(-1 + ⅈ)⋅sin ⎜─⎟⋅sin⎜─⎟ + 0.5⋅(1 - ⅈ)⋅sin⎜─⎟ + 0.5⋅(1 + ⅈ)⋅cos⎜─⎟⎟   \n",
       "⎢   ⎝                 ⎝2⎠    ⎝2⎠                  ⎝2⎠                  ⎝2⎠⎠   \n",
       "⎢                                                                             \n",
       "⎢                                 ⅈ⋅φ    ⎛θ⎞    ⎛λ⎞    ⎛θ⎞                    \n",
       "⎢                -1.0⋅√2⋅(1 + ⅈ)⋅ℯ   ⋅sin⎜─⎟⋅sin⎜─⎟⋅cos⎜─⎟                   √\n",
       "⎣                                        ⎝2⎠    ⎝2⎠    ⎝2⎠                    \n",
       "\n",
       "                              -ⅈ⋅φ    ⎛θ⎞    ⎛λ⎞    ⎛θ⎞               ⎤\n",
       "              1.0⋅√2⋅(1 - ⅈ)⋅ℯ    ⋅sin⎜─⎟⋅sin⎜─⎟⋅cos⎜─⎟               ⎥\n",
       "                                      ⎝2⎠    ⎝2⎠    ⎝2⎠               ⎥\n",
       "                                                                      ⎥\n",
       "  ⎛             2⎛θ⎞    ⎛λ⎞                  ⎛λ⎞                  ⎛λ⎞⎞⎥\n",
       "2⋅⎜- (1 + ⅈ)⋅sin ⎜─⎟⋅sin⎜─⎟ + 0.5⋅(1 + ⅈ)⋅sin⎜─⎟ + 0.5⋅(1 - ⅈ)⋅cos⎜─⎟⎟⎥\n",
       "  ⎝              ⎝2⎠    ⎝2⎠                  ⎝2⎠                  ⎝2⎠⎠⎦"
      ]
     },
     "metadata": {},
     "output_type": "display_data"
    }
   ],
   "source": [
    "rotation = Rz(phi-sy.pi)@Rx(-theta)@Rz(lam)@Rx(theta)@Rz(sy.pi/2-phi)\n",
    "display(sy.simplify(rotation))"
   ]
  },
  {
   "cell_type": "code",
   "execution_count": 6,
   "metadata": {},
   "outputs": [
    {
     "data": {
      "text/latex": [
       "$\\displaystyle \\left[\\begin{matrix}- 1.0 i \\sin{\\left(\\frac{λ}{2} \\right)} + \\cos{\\left(\\frac{λ}{2} \\right)} & - 1.0 i \\left(1 - 1.0 i\\right) \\sin{\\left(\\frac{λ}{2} \\right)}\\\\- 1.0 i \\left(1 + 1.0 i\\right) \\sin{\\left(\\frac{λ}{2} \\right)} & 1.0 i \\sin{\\left(\\frac{λ}{2} \\right)} + \\cos{\\left(\\frac{λ}{2} \\right)}\\end{matrix}\\right]$"
      ],
      "text/plain": [
       "⎡          ⎛λ⎞      ⎛λ⎞                       ⎛λ⎞⎤\n",
       "⎢   - ⅈ⋅sin⎜─⎟ + cos⎜─⎟     -1.0⋅ⅈ⋅(1 - ⅈ)⋅sin⎜─⎟⎥\n",
       "⎢          ⎝2⎠      ⎝2⎠                       ⎝2⎠⎥\n",
       "⎢                                                ⎥\n",
       "⎢                      ⎛λ⎞           ⎛λ⎞      ⎛λ⎞⎥\n",
       "⎢-1.0⋅ⅈ⋅(1 + 1.0⋅ⅈ)⋅sin⎜─⎟  1.0⋅ⅈ⋅sin⎜─⎟ + cos⎜─⎟⎥\n",
       "⎣                      ⎝2⎠           ⎝2⎠      ⎝2⎠⎦"
      ]
     },
     "metadata": {},
     "output_type": "display_data"
    }
   ],
   "source": [
    "R_n = sy.cos(lam/2)*I - 1j*sy.sin(lam/2)*(X + Y + Z)\n",
    "display(R_n)"
   ]
  },
  {
   "cell_type": "markdown",
   "metadata": {},
   "source": [
    "## 結果\n",
    "文字を使った計算（式変形)をコンピュータに任せるのは無理があった。最後は手計算がものを言う。あと原因不明のMatplotlibDeprecationWarningが目障りなので出てこないようにしたい。"
   ]
  }
 ],
 "metadata": {
  "kernelspec": {
   "display_name": "Python 3.9.4 ('env': venv)",
   "language": "python",
   "name": "python3"
  },
  "language_info": {
   "codemirror_mode": {
    "name": "ipython",
    "version": 3
   },
   "file_extension": ".py",
   "mimetype": "text/x-python",
   "name": "python",
   "nbconvert_exporter": "python",
   "pygments_lexer": "ipython3",
   "version": "3.9.4"
  },
  "orig_nbformat": 4,
  "vscode": {
   "interpreter": {
    "hash": "27d25ee8c19e96e6a2baf4efd1f121f6252c856e53071d999bae66514221de3f"
   }
  }
 },
 "nbformat": 4,
 "nbformat_minor": 2
}
