{
 "cells": [
  {
   "cell_type": "code",
   "execution_count": 20,
   "metadata": {},
   "outputs": [],
   "source": [
    "from qiskit import Aer, execute\n",
    "from qiskit import QuantumCircuit\n",
    "from qiskit.quantum_info import operators\n",
    "from qiskit.quantum_info.analysis import average_data\n",
    "\n",
    "from scipy.optimize import minimize, rosen\n",
    "import numpy as np"
   ]
  },
  {
   "cell_type": "code",
   "execution_count": 17,
   "metadata": {},
   "outputs": [],
   "source": [
    "class VQE:\n",
    "    \n",
    "    #回路の作成\n",
    "    def __init__(self, n_qubits, observable, layer, backend):\n",
    "        self.n_qubits = n_qubits\n",
    "        self.OBS = observable\n",
    "        self.Layer = layer\n",
    "        self.backend = backend\n",
    "\n",
    "    def make_circuit(self, Params):\n",
    "\n",
    "        def make_U_circuit(circ, params):\n",
    "            for n in range(self.n_qubits):\n",
    "                param = params[3*n: 3*(n+1)]\n",
    "                circ.rz(param[0], n)\n",
    "                circ.rx(param[1], n)\n",
    "                circ.rz(param[2], n)\n",
    "            return circ\n",
    "        \n",
    "        def make_Ent(circ):\n",
    "            for n in range(self.n_qubits-1):\n",
    "                circ.cx(n, n+1)\n",
    "            return circ\n",
    "        \n",
    "        circ = QuantumCircuit(self.n_qubits, self.n_qubits)\n",
    "\n",
    "        for l in range(self.Layer):\n",
    "            #parameter circuitの作成\n",
    "            params = Params[3*self.n_qubits*l : 3*self.n_qubits*(l+1)]\n",
    "            #entanglementの作成\n",
    "            make_U_circuit(circ, params)\n",
    "\n",
    "            if l != self.Layer-1:\n",
    "                make_Ent(circ)\n",
    "\n",
    "        circ.measure(circ.qregs[0], circ.cregs[0])\n",
    "\n",
    "        return circ\n",
    "    \n",
    "    ##VQE実行フェーズ\n",
    "    def outputlayer(self, params):\n",
    "        circ = self.make_circuit(params)\n",
    "        counts = execute(circ, backend=self.backend, shots=8192).result().get_counts()\n",
    "        return average_data(counts, self.OBS)\n",
    "    \n",
    "    def initial_params(self):\n",
    "        init = [0.1 for _ in range(3 * self.Layer * self.n_qubits)]\n",
    "        return np.array(init)\n",
    "    \n",
    "    def minimize(self):\n",
    "        initial_params = self.initial_params()\n",
    "        #最適化の実行\n",
    "        opt_params, opt_cost = classica_minimize(self.outputlayer, initial_params, options={'maxiter': 500})\n",
    "        circ = self.make_circuit(opt_params)\n",
    "        counts = execute(circ, backend=self.backend, shots=8192).result().get_counts()\n",
    "        ans = sorted(counts.items(), key=lambda x: x[1], reverse=True)\n",
    "        print(ans)\n",
    "        return opt_cost"
   ]
  },
  {
   "attachments": {},
   "cell_type": "markdown",
   "metadata": {},
   "source": [
    "#VQE実行フェーズ"
   ]
  },
  {
   "cell_type": "code",
   "execution_count": 11,
   "metadata": {},
   "outputs": [],
   "source": [
    "def sample_hamiltonian():\n",
    "    I_mat = np.array([[1, 0], [0, 1]])\n",
    "    X_mat = np.array([[0, 1], [1, 0]])\n",
    "    Z_mat = np.array([[1, 0], [0, -1]])\n",
    "    obs = np.zeros((4,4))\n",
    "    obs += -3.8505 * np.kron(I_mat, I_mat)\n",
    "    obs += -0.2288 * np.kron(I_mat, X_mat)\n",
    "    obs += -1.0466 * np.kron(I_mat, Z_mat)\n",
    "    obs += 0.2613 * np.kron(X_mat, X_mat)\n",
    "    obs += 0.2288 * np.kron(X_mat, Z_mat)\n",
    "    obs += -1.0466 * np.kron(Z_mat, I_mat)\n",
    "    obs += 0.2288 * np.kron(X_mat, X_mat)\n",
    "    obs += 0.2356 * np.kron(X_mat, X_mat)\n",
    "    return obs / 2"
   ]
  },
  {
   "cell_type": "code",
   "execution_count": 25,
   "metadata": {},
   "outputs": [],
   "source": [
    "def classica_minimize(cost_func, initial_params, options):\n",
    "    print('classical minimize is starting now...')\n",
    "    result = minimize(cost_func, initial_params, options=options, method='powell',  tol=1e-6)\n",
    "    print('opt_cost: {}'.format(result.run))\n",
    "    print('opt_params: {}'.format(result.x))\n",
    "    return result['x'], result['fun']"
   ]
  },
  {
   "cell_type": "code",
   "execution_count": 26,
   "metadata": {},
   "outputs": [
    {
     "name": "stdout",
     "output_type": "stream",
     "text": [
      "classical minimize is starting now...\n"
     ]
    },
    {
     "ename": "AttributeError",
     "evalue": "run",
     "output_type": "error",
     "traceback": [
      "\u001b[1;31m---------------------------------------------------------------------------\u001b[0m",
      "\u001b[1;31mKeyError\u001b[0m                                  Traceback (most recent call last)",
      "File \u001b[1;32mc:\\Users\\ryota\\QC_with_qiskit\\env\\lib\\site-packages\\scipy\\optimize\\_optimize.py:124\u001b[0m, in \u001b[0;36mOptimizeResult.__getattr__\u001b[1;34m(self, name)\u001b[0m\n\u001b[0;32m    123\u001b[0m \u001b[39mtry\u001b[39;00m:\n\u001b[1;32m--> 124\u001b[0m     \u001b[39mreturn\u001b[39;00m \u001b[39mself\u001b[39;49m[name]\n\u001b[0;32m    125\u001b[0m \u001b[39mexcept\u001b[39;00m \u001b[39mKeyError\u001b[39;00m \u001b[39mas\u001b[39;00m e:\n",
      "\u001b[1;31mKeyError\u001b[0m: 'run'",
      "\nThe above exception was the direct cause of the following exception:\n",
      "\u001b[1;31mAttributeError\u001b[0m                            Traceback (most recent call last)",
      "\u001b[1;32mc:\\Users\\ryota\\QC_with_qiskit\\VQE.ipynb セル 6\u001b[0m in \u001b[0;36m4\n\u001b[0;32m      <a href='vscode-notebook-cell:/c%3A/Users/ryota/QC_with_qiskit/VQE.ipynb#W6sZmlsZQ%3D%3D?line=1'>2</a>\u001b[0m obs \u001b[39m=\u001b[39m sample_hamiltonian()\n\u001b[0;32m      <a href='vscode-notebook-cell:/c%3A/Users/ryota/QC_with_qiskit/VQE.ipynb#W6sZmlsZQ%3D%3D?line=2'>3</a>\u001b[0m vqe \u001b[39m=\u001b[39m VQE(\u001b[39m2\u001b[39m, obs, \u001b[39m2\u001b[39m, backend)\n\u001b[1;32m----> <a href='vscode-notebook-cell:/c%3A/Users/ryota/QC_with_qiskit/VQE.ipynb#W6sZmlsZQ%3D%3D?line=3'>4</a>\u001b[0m vqe\u001b[39m.\u001b[39;49mminimize()\n",
      "\u001b[1;32mc:\\Users\\ryota\\QC_with_qiskit\\VQE.ipynb セル 6\u001b[0m in \u001b[0;36m5\n\u001b[0;32m     <a href='vscode-notebook-cell:/c%3A/Users/ryota/QC_with_qiskit/VQE.ipynb#W6sZmlsZQ%3D%3D?line=50'>51</a>\u001b[0m initial_params \u001b[39m=\u001b[39m \u001b[39mself\u001b[39m\u001b[39m.\u001b[39minitial_params()\n\u001b[0;32m     <a href='vscode-notebook-cell:/c%3A/Users/ryota/QC_with_qiskit/VQE.ipynb#W6sZmlsZQ%3D%3D?line=51'>52</a>\u001b[0m \u001b[39m#最適化の実行\u001b[39;00m\n\u001b[1;32m---> <a href='vscode-notebook-cell:/c%3A/Users/ryota/QC_with_qiskit/VQE.ipynb#W6sZmlsZQ%3D%3D?line=52'>53</a>\u001b[0m opt_params, opt_cost \u001b[39m=\u001b[39m classica_minimize(\u001b[39mself\u001b[39;49m\u001b[39m.\u001b[39;49moutputlayer, initial_params, options\u001b[39m=\u001b[39;49m{\u001b[39m'\u001b[39;49m\u001b[39mmaxiter\u001b[39;49m\u001b[39m'\u001b[39;49m: \u001b[39m500\u001b[39;49m})\n\u001b[0;32m     <a href='vscode-notebook-cell:/c%3A/Users/ryota/QC_with_qiskit/VQE.ipynb#W6sZmlsZQ%3D%3D?line=53'>54</a>\u001b[0m circ \u001b[39m=\u001b[39m \u001b[39mself\u001b[39m\u001b[39m.\u001b[39mmake_circuit(opt_params)\n\u001b[0;32m     <a href='vscode-notebook-cell:/c%3A/Users/ryota/QC_with_qiskit/VQE.ipynb#W6sZmlsZQ%3D%3D?line=54'>55</a>\u001b[0m counts \u001b[39m=\u001b[39m execute(circ, backend\u001b[39m=\u001b[39m\u001b[39mself\u001b[39m\u001b[39m.\u001b[39mbackend, shots\u001b[39m=\u001b[39m\u001b[39m8192\u001b[39m)\u001b[39m.\u001b[39mresult()\u001b[39m.\u001b[39mget_counts()\n",
      "\u001b[1;32mc:\\Users\\ryota\\QC_with_qiskit\\VQE.ipynb セル 6\u001b[0m in \u001b[0;36m4\n\u001b[0;32m      <a href='vscode-notebook-cell:/c%3A/Users/ryota/QC_with_qiskit/VQE.ipynb#W6sZmlsZQ%3D%3D?line=1'>2</a>\u001b[0m \u001b[39mprint\u001b[39m(\u001b[39m'\u001b[39m\u001b[39mclassical minimize is starting now...\u001b[39m\u001b[39m'\u001b[39m)\n\u001b[0;32m      <a href='vscode-notebook-cell:/c%3A/Users/ryota/QC_with_qiskit/VQE.ipynb#W6sZmlsZQ%3D%3D?line=2'>3</a>\u001b[0m result \u001b[39m=\u001b[39m minimize(cost_func, initial_params, options\u001b[39m=\u001b[39moptions, method\u001b[39m=\u001b[39m\u001b[39m'\u001b[39m\u001b[39mpowell\u001b[39m\u001b[39m'\u001b[39m,  tol\u001b[39m=\u001b[39m\u001b[39m1e-6\u001b[39m)\n\u001b[1;32m----> <a href='vscode-notebook-cell:/c%3A/Users/ryota/QC_with_qiskit/VQE.ipynb#W6sZmlsZQ%3D%3D?line=3'>4</a>\u001b[0m \u001b[39mprint\u001b[39m(\u001b[39m'\u001b[39m\u001b[39mopt_cost: \u001b[39m\u001b[39m{}\u001b[39;00m\u001b[39m'\u001b[39m\u001b[39m.\u001b[39mformat(result\u001b[39m.\u001b[39;49mrun))\n\u001b[0;32m      <a href='vscode-notebook-cell:/c%3A/Users/ryota/QC_with_qiskit/VQE.ipynb#W6sZmlsZQ%3D%3D?line=4'>5</a>\u001b[0m \u001b[39mprint\u001b[39m(\u001b[39m'\u001b[39m\u001b[39mopt_params: \u001b[39m\u001b[39m{}\u001b[39;00m\u001b[39m'\u001b[39m\u001b[39m.\u001b[39mformat(result\u001b[39m.\u001b[39mx))\n\u001b[0;32m      <a href='vscode-notebook-cell:/c%3A/Users/ryota/QC_with_qiskit/VQE.ipynb#W6sZmlsZQ%3D%3D?line=5'>6</a>\u001b[0m \u001b[39mreturn\u001b[39;00m result[\u001b[39m'\u001b[39m\u001b[39mx\u001b[39m\u001b[39m'\u001b[39m], result[\u001b[39m'\u001b[39m\u001b[39mfun\u001b[39m\u001b[39m'\u001b[39m]\n",
      "File \u001b[1;32mc:\\Users\\ryota\\QC_with_qiskit\\env\\lib\\site-packages\\scipy\\optimize\\_optimize.py:126\u001b[0m, in \u001b[0;36mOptimizeResult.__getattr__\u001b[1;34m(self, name)\u001b[0m\n\u001b[0;32m    124\u001b[0m     \u001b[39mreturn\u001b[39;00m \u001b[39mself\u001b[39m[name]\n\u001b[0;32m    125\u001b[0m \u001b[39mexcept\u001b[39;00m \u001b[39mKeyError\u001b[39;00m \u001b[39mas\u001b[39;00m e:\n\u001b[1;32m--> 126\u001b[0m     \u001b[39mraise\u001b[39;00m \u001b[39mAttributeError\u001b[39;00m(name) \u001b[39mfrom\u001b[39;00m \u001b[39me\u001b[39;00m\n",
      "\u001b[1;31mAttributeError\u001b[0m: run"
     ]
    }
   ],
   "source": [
    "backend = Aer.get_backend('qasm_simulator')\n",
    "obs = sample_hamiltonian()\n",
    "vqe = VQE(2, obs, 2, backend)\n",
    "vqe.minimize()"
   ]
  },
  {
   "cell_type": "code",
   "execution_count": null,
   "metadata": {},
   "outputs": [],
   "source": []
  }
 ],
 "metadata": {
  "kernelspec": {
   "display_name": "env",
   "language": "python",
   "name": "python3"
  },
  "language_info": {
   "codemirror_mode": {
    "name": "ipython",
    "version": 3
   },
   "file_extension": ".py",
   "mimetype": "text/x-python",
   "name": "python",
   "nbconvert_exporter": "python",
   "pygments_lexer": "ipython3",
   "version": "3.9.4"
  },
  "orig_nbformat": 4,
  "vscode": {
   "interpreter": {
    "hash": "27d25ee8c19e96e6a2baf4efd1f121f6252c856e53071d999bae66514221de3f"
   }
  }
 },
 "nbformat": 4,
 "nbformat_minor": 2
}
